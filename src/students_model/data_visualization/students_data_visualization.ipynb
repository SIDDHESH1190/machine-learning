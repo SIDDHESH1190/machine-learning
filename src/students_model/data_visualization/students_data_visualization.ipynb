{
 "cells": [
  {
   "cell_type": "code",
   "execution_count": 23,
   "id": "7c1706aa",
   "metadata": {},
   "outputs": [
    {
     "name": "stdout",
     "output_type": "stream",
     "text": [
      "Students Grouped By Year:\n",
      "year  student_id  name             std  age  weight_kg  height_cm  math_marks  science_marks  english_marks  percent    city         improvement  gender  family_income  bmi      \n",
      "2022  STU001      Aarav Sharma     8    14   45.000000  155        85.000000   78             92             85.000000  Mumbai        5.2         Male    420000.0       18.730489    1\n",
      "      STU002      Priya Patel      9    15   52.000000  160        92.000000   88             85             88.300000  Delhi         7.1         Female  750000.0       20.312500    1\n",
      "      STU003      Rohan Kumar      7    13   54.225806  148        78.000000   82             76             78.700000  Bangalore     0.0         Male    300000.0       24.756121    1\n",
      "      STU004      Ananya Singh     10   16   58.000000  165        95.000000   91             89             91.700000  Chennai       3.8         Female  920000.0       21.303949    1\n",
      "      STU005      Arjun Gupta      8    14   47.000000  152        87.112745   75             81             81.037582  Hyderabad     2.5         Male    260000.0       20.342798    1\n",
      "                                                                                                                                                                                     ..\n",
      "2023  STU296      Chandni Roy      8    14   46.000000  156        78.000000   81             79             79.300000  Gurgaon      -2.8         Female  400000.0       18.902038    1\n",
      "      STU297      Dinesh Mehra     9    15   54.000000  161        85.000000   83             88             85.300000  Noida         0.5         Male    590000.0       20.832530    1\n",
      "      STU298      Lakshmi Prasad   12   18   67.000000  173        96.000000   93             95             94.700000  Bhubaneswar   3.6         Female  520000.0       22.386314    1\n",
      "      STU299      Rameshwar Dayal  11   17   65.000000  169        92.000000   90             89             90.300000  Dehradun      1.8         Male    740000.0       22.758307    1\n",
      "      STU300      Shanti Bai       7    13   44.000000  151        83.000000   77             84             81.300000  Jamnagar     -1.2         Female  430000.0       19.297399    1\n",
      "Name: count, Length: 410, dtype: int64\n"
     ]
    }
   ],
   "source": [
    "import numpy as np\n",
    "import matplotlib.pyplot as plt\n",
    "import pandas as pd\n",
    "\n",
    "studentDataframe = pd.read_csv(\"../resources/cleaned_students.csv\")\n",
    "\n",
    "## students bmi graph\n",
    "studentDataframe[\"bmi\"] = studentDataframe[\"weight_kg\"] / (studentDataframe[\"height_cm\"] / 100) ** 2\n",
    "print(\"Students Grouped By Year:\")\n",
    "print(studentDataframe.groupby(\"year\").value_counts())"
   ]
  }
 ],
 "metadata": {
  "kernelspec": {
   "display_name": "ml_practice",
   "language": "python",
   "name": "python3"
  },
  "language_info": {
   "codemirror_mode": {
    "name": "ipython",
    "version": 3
   },
   "file_extension": ".py",
   "mimetype": "text/x-python",
   "name": "python",
   "nbconvert_exporter": "python",
   "pygments_lexer": "ipython3",
   "version": "3.13.7"
  }
 },
 "nbformat": 4,
 "nbformat_minor": 5
}
