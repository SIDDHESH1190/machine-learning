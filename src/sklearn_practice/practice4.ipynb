{
 "cells": [
  {
   "cell_type": "markdown",
   "id": "fc4471f7",
   "metadata": {},
   "source": [
    "# Logistic Regression"
   ]
  },
  {
   "cell_type": "markdown",
   "id": "1d21dedb",
   "metadata": {},
   "source": [
    "## Data Preprocessing"
   ]
  },
  {
   "cell_type": "code",
   "execution_count": null,
   "id": "87fb2dbc",
   "metadata": {},
   "outputs": [],
   "source": [
    "#Importing all required libraries\n",
    "\n",
    "import pandas as pd\n",
    "import numpy as np\n",
    "import matplotlib.pyplot as plt\n",
    "import seaborn as sns\n",
    "\n",
    "titanic_data = pd.read_csv(\"../../data/titanic_data.csv\")"
   ]
  },
  {
   "cell_type": "code",
   "execution_count": null,
   "id": "b7ba216e",
   "metadata": {},
   "outputs": [],
   "source": [
    "print(len(titanic_data))\n",
    "titanic_data.head()"
   ]
  },
  {
   "cell_type": "code",
   "execution_count": null,
   "id": "5d8be8ab",
   "metadata": {},
   "outputs": [],
   "source": [
    "titanic_data.drop(columns=[\"PassengerId\", \"Name\", \"Ticket\", \"Cabin\"], inplace=True)"
   ]
  },
  {
   "cell_type": "code",
   "execution_count": null,
   "id": "4ace2b35",
   "metadata": {},
   "outputs": [],
   "source": [
    "titanic_data.shape\n",
    "titanic_data.isnull().sum()"
   ]
  },
  {
   "cell_type": "code",
   "execution_count": null,
   "id": "1bc486fe",
   "metadata": {},
   "outputs": [],
   "source": [
    "titanic_data[titanic_data.isnull().any(axis=1)].count()"
   ]
  },
  {
   "cell_type": "code",
   "execution_count": null,
   "id": "c61e9630",
   "metadata": {},
   "outputs": [],
   "source": [
    "titanic_data.dropna(inplace= True)"
   ]
  },
  {
   "cell_type": "code",
   "execution_count": null,
   "id": "e8574b19",
   "metadata": {},
   "outputs": [],
   "source": [
    "print(pd.crosstab(titanic_data[\"Sex\"], titanic_data[\"Survived\"]),\"\\n\\n\")\n",
    "print(pd.crosstab(titanic_data[\"Pclass\"], titanic_data[\"Survived\"]))"
   ]
  },
  {
   "cell_type": "code",
   "execution_count": null,
   "id": "e4216c84",
   "metadata": {},
   "outputs": [],
   "source": [
    "titanic_data_corr = titanic_data.select_dtypes([\"number\"]).corr()\n",
    "fig, axes = plt.subplots(figsize = (10,6))\n",
    "sns.heatmap(titanic_data_corr, annot=True)\n",
    "plt.show()"
   ]
  },
  {
   "cell_type": "code",
   "execution_count": null,
   "id": "df69d2d8",
   "metadata": {},
   "outputs": [],
   "source": [
    "from sklearn.preprocessing import LabelEncoder\n",
    "\n",
    "labelEncoder = LabelEncoder()\n",
    "\n",
    "titanic_data.Sex = labelEncoder.fit_transform(titanic_data.Sex)\n",
    "titanic_data = pd.get_dummies(titanic_data, columns= [\"Embarked\"], dtype=int)\n",
    "titanic_data.shape"
   ]
  },
  {
   "cell_type": "code",
   "execution_count": null,
   "id": "2d762de2",
   "metadata": {},
   "outputs": [],
   "source": [
    "titanic_data = titanic_data.sample(frac=1).reset_index(drop=True)\n",
    "titanic_data.shape"
   ]
  },
  {
   "cell_type": "code",
   "execution_count": null,
   "id": "35021907",
   "metadata": {},
   "outputs": [],
   "source": [
    "titanic_data.to_csv(\"../../data/titanic_data_processed.csv\", index = False)"
   ]
  },
  {
   "cell_type": "markdown",
   "id": "a901156b",
   "metadata": {},
   "source": []
  },
  {
   "cell_type": "markdown",
   "id": "6abb71b5",
   "metadata": {},
   "source": [
    "## Split and training"
   ]
  },
  {
   "cell_type": "code",
   "execution_count": 102,
   "id": "0bcab7c9",
   "metadata": {},
   "outputs": [
    {
     "name": "stdout",
     "output_type": "stream",
     "text": [
      "x_train shape :  (834, 9)\n",
      "x_test shape :  (209, 9)\n",
      "y_train shape :  (834,)\n",
      "y_test shape :  (209,)\n"
     ]
    }
   ],
   "source": [
    "from sklearn.model_selection import train_test_split\n",
    "\n",
    "titanic_data_processed = pd.read_csv(\"../../data/titanic_data_processed.csv\")\n",
    "\n",
    "X = titanic_data_processed.drop(columns=[\"Survived\"], axis=1)\n",
    "Y = titanic_data_processed[\"Survived\"]\n",
    "\n",
    "x_train, x_test, y_train, y_test = train_test_split(X, Y, random_state=42, test_size=0.2)\n",
    "\n",
    "print(\"x_train shape : \", x_train.shape)\n",
    "print(\"x_test shape : \", x_test.shape)\n",
    "print(\"y_train shape : \", y_train.shape)\n",
    "print(\"y_test shape : \", y_test.shape)"
   ]
  },
  {
   "cell_type": "code",
   "execution_count": 103,
   "id": "64de00a4",
   "metadata": {},
   "outputs": [
    {
     "name": "stdout",
     "output_type": "stream",
     "text": [
      "Training Accuracy: 0.8465\n",
      "Test Accuracy: 0.8708\n"
     ]
    }
   ],
   "source": [
    "from sklearn.linear_model import LogisticRegression\n",
    "\n",
    "# Model training\n",
    "logistic_model = LogisticRegression(penalty='l2', C=1.0, solver='liblinear')\n",
    "logistic_model.fit(x_train, y_train)\n",
    "\n",
    "# Enhanced evaluation\n",
    "train_score = logistic_model.score(x_train, y_train)\n",
    "test_score = logistic_model.score(x_test, y_test)\n",
    "\n",
    "print(f\"Training Accuracy: {train_score:.4f}\")\n",
    "print(f\"Test Accuracy: {test_score:.4f}\")"
   ]
  },
  {
   "cell_type": "code",
   "execution_count": 105,
   "id": "e6ccb36b",
   "metadata": {},
   "outputs": [
    {
     "name": "stdout",
     "output_type": "stream",
     "text": [
      "\n",
      "Confusion Matrix:\n",
      "Actual       0   1  All\n",
      "Predicted              \n",
      "0          113  14  127\n",
      "1           13  69   82\n",
      "All        126  83  209\n",
      "\n",
      "Classification Report:\n",
      "              precision    recall  f1-score   support\n",
      "\n",
      "           0       0.89      0.90      0.89       126\n",
      "           1       0.84      0.83      0.84        83\n",
      "\n",
      "    accuracy                           0.87       209\n",
      "   macro avg       0.87      0.86      0.86       209\n",
      "weighted avg       0.87      0.87      0.87       209\n",
      "\n",
      "\n",
      "Feature Importance:\n",
      "      feature  importance\n",
      "6  Embarked_C    1.175492\n",
      "7  Embarked_Q    0.846316\n",
      "8  Embarked_S    0.844095\n",
      "5        Fare    0.002551\n",
      "2         Age   -0.020512\n",
      "4       Parch   -0.152503\n",
      "3       SibSp   -0.269842\n",
      "0      Pclass   -0.680436\n",
      "1         Sex   -3.355209\n"
     ]
    }
   ],
   "source": [
    "from sklearn.metrics import classification_report\n",
    "\n",
    "y_pred = logistic_model.predict(x_test)\n",
    "\n",
    "# Comprehensive results analysis\n",
    "final_result = pd.DataFrame({\n",
    "    \"actual\": y_test,\n",
    "    \"predicted\": y_pred,\n",
    "    \"correct\": y_test == y_pred\n",
    "})\n",
    "\n",
    "conf_matrix = pd.crosstab(y_pred, y_test, \n",
    "                         rownames=['Predicted'], \n",
    "                         colnames=['Actual'],\n",
    "                         margins=True)\n",
    "print(\"\\nConfusion Matrix:\")\n",
    "print(conf_matrix)\n",
    "\n",
    "print(\"\\nClassification Report:\")\n",
    "print(classification_report(y_test, y_pred))\n",
    "\n",
    "# Feature importance (if you want to understand what drives predictions)\n",
    "if hasattr(logistic_model, 'coef_'):\n",
    "    feature_importance = pd.DataFrame({\n",
    "        'feature': X.columns,\n",
    "        'importance': logistic_model.coef_[0]\n",
    "    }).sort_values('importance', ascending=False)\n",
    "    \n",
    "    print(\"\\nFeature Importance:\")\n",
    "    print(feature_importance)"
   ]
  }
 ],
 "metadata": {
  "kernelspec": {
   "display_name": "ml-project",
   "language": "python",
   "name": "python3"
  },
  "language_info": {
   "codemirror_mode": {
    "name": "ipython",
    "version": 3
   },
   "file_extension": ".py",
   "mimetype": "text/x-python",
   "name": "python",
   "nbconvert_exporter": "python",
   "pygments_lexer": "ipython3",
   "version": "3.13.7"
  }
 },
 "nbformat": 4,
 "nbformat_minor": 5
}
