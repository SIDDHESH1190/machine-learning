{
 "cells": [
  {
   "cell_type": "markdown",
   "id": "532866f3",
   "metadata": {},
   "source": [
    "# Auto-mpg regression"
   ]
  },
  {
   "cell_type": "code",
   "execution_count": 40,
   "id": "30c3f207",
   "metadata": {},
   "outputs": [],
   "source": [
    "import pandas as pd\n",
    "import numpy as np\n",
    "import matplotlib.pyplot as plt\n",
    "from sklearn import preprocessing"
   ]
  },
  {
   "cell_type": "code",
   "execution_count": null,
   "id": "ba7eceec",
   "metadata": {},
   "outputs": [
    {
     "name": "stdout",
     "output_type": "stream",
     "text": [
      "Before scaling :     Unnamed: 0   mpg  cylinders  displacement  horsepower  weight  \\\n",
      "0           0  25.0          4          90.0        71.0    2223   \n",
      "1           1  22.0          6         198.0        95.0    2833   \n",
      "2           2  23.9          4         119.0        97.0    2405   \n",
      "3           3  13.0          8         302.0       140.0    4294   \n",
      "4           4  39.4          4          85.0        70.0    2070   \n",
      "\n",
      "   acceleration  age  \n",
      "0          16.5   50  \n",
      "1          15.5   55  \n",
      "2          14.9   47  \n",
      "3          16.0   53  \n",
      "4          18.6   47  \n",
      "After scaling :     Unnamed: 0       mpg  cylinders  displacement  horsepower    weight  \\\n",
      "0   -1.727638  0.199368  -0.864014     -0.999058   -0.870646 -0.889506   \n",
      "1   -1.718801 -0.185492   0.309967      0.034332   -0.246329 -0.170436   \n",
      "2   -1.709964  0.058253  -0.864014     -0.721574   -0.194303 -0.674964   \n",
      "3   -1.701127 -1.340071   1.483947      1.029447    0.924265  1.551794   \n",
      "4   -1.692290  2.046695  -0.864014     -1.046900   -0.896659 -1.069863   \n",
      "\n",
      "   acceleration       age  \n",
      "0      0.347933  0.266263  \n",
      "1     -0.014999  1.625315  \n",
      "2     -0.232757 -0.549168  \n",
      "3      0.166467  1.081695  \n",
      "4      1.110088 -0.549168  \n"
     ]
    }
   ],
   "source": [
    "automobile_data = pd.read_csv(\"../../../data/auto-mpg-processed.csv\")\n",
    "# print(\"Before scaling : \", automobile_data.head())\n",
    "\n",
    "# for column in automobile_data.columns:\n",
    "#     automobile_data[[column]] = preprocessing.scale(automobile_data[[column]].astype(\"float64\"))\n",
    "\n",
    "# print(\"After scaling : \", automobile_data.head())\n"
   ]
  },
  {
   "cell_type": "code",
   "execution_count": 42,
   "id": "5237c21c",
   "metadata": {},
   "outputs": [
    {
     "name": "stdout",
     "output_type": "stream",
     "text": [
      "x_train shape :  (313, 1)\n",
      "x_test shape :  (79, 1)\n",
      "y_train shape :  (313, 1)\n",
      "y_test shape :  (79, 1)\n",
      "Training score with proper scaling: 0.6285958357101507\n",
      "Testing score: 0.5085360323881871\n"
     ]
    }
   ],
   "source": [
    "from sklearn.model_selection import train_test_split\n",
    "from sklearn.linear_model import LinearRegression\n",
    "from sklearn.preprocessing import StandardScaler\n",
    "from sklearn.metrics import r2_score\n",
    "\n",
    "X = automobile_data[[\"horsepower\"]]\n",
    "Y = automobile_data[[\"mpg\"]]\n",
    "\n",
    "x_train, x_test, y_train, y_test = train_test_split(X, Y, random_state=42, test_size=0.2)\n",
    "\n",
    "print(\"x_train shape : \", x_train.shape)\n",
    "print(\"x_test shape : \", x_test.shape)\n",
    "print(\"y_train shape : \", y_train.shape)\n",
    "print(\"y_test shape : \", y_test.shape)\n",
    "\n",
    "# Scale the data properly - fit scaler ONLY on training data\n",
    "scaler = StandardScaler()\n",
    "x_train_scaled = scaler.fit_transform(x_train)\n",
    "\n",
    "# Fit model\n",
    "linear_model = LinearRegression().fit(x_train_scaled, y_train)\n",
    "\n",
    "# Calculate score on scaled training data\n",
    "train_score = linear_model.score(x_train_scaled, y_train)\n",
    "print(\"Training score with proper scaling:\", train_score)\n",
    "\n",
    "# Transform test data using the SAME scaler (don't fit again!)\n",
    "x_test_scaled = scaler.transform(x_test)\n",
    "\n",
    "# Make predictions and calculate test score\n",
    "y_pred = linear_model.predict(x_test_scaled)\n",
    "test_score = r2_score(y_test, y_pred)\n",
    "\n",
    "print(\"Testing score:\", test_score)"
   ]
  },
  {
   "cell_type": "code",
   "execution_count": 43,
   "id": "7def73cc",
   "metadata": {},
   "outputs": [
    {
     "name": "stdout",
     "output_type": "stream",
     "text": [
      "x_train shape :  (313, 1)\n",
      "x_test shape :  (79, 1)\n",
      "y_train shape :  (313, 1)\n",
      "y_test shape :  (79, 1)\n",
      "Training score with proper scaling: 0.33391019892068907\n",
      "Testing score: 0.32140223057806827\n"
     ]
    }
   ],
   "source": [
    "X = automobile_data[[\"age\"]]\n",
    "Y = automobile_data[[\"mpg\"]]\n",
    "\n",
    "x_train, x_test, y_train, y_test = train_test_split(X, Y, random_state=42, test_size=0.2)\n",
    "\n",
    "print(\"x_train shape : \", x_train.shape)\n",
    "print(\"x_test shape : \", x_test.shape)\n",
    "print(\"y_train shape : \", y_train.shape)\n",
    "print(\"y_test shape : \", y_test.shape)\n",
    "\n",
    "# Scale the data properly - fit scaler ONLY on training data\n",
    "scaler = StandardScaler()\n",
    "x_train_scaled = scaler.fit_transform(x_train)\n",
    "\n",
    "# Fit model\n",
    "linear_model = LinearRegression().fit(x_train_scaled, y_train)\n",
    "\n",
    "# Calculate score on scaled training data\n",
    "train_score = linear_model.score(x_train_scaled, y_train)\n",
    "print(\"Training score with proper scaling:\", train_score)\n",
    "\n",
    "# Transform test data using the SAME scaler (don't fit again!)\n",
    "x_test_scaled = scaler.transform(x_test)\n",
    "\n",
    "# Make predictions and calculate test score\n",
    "y_pred = linear_model.predict(x_test_scaled)\n",
    "test_score = r2_score(y_test, y_pred)\n",
    "\n",
    "print(\"Testing score:\", test_score)"
   ]
  },
  {
   "cell_type": "code",
   "execution_count": 44,
   "id": "57b514d6",
   "metadata": {},
   "outputs": [
    {
     "name": "stdout",
     "output_type": "stream",
     "text": [
      "x_train shape :  (313, 3)\n",
      "x_test shape :  (79, 3)\n",
      "y_train shape :  (313, 1)\n",
      "y_test shape :  (79, 1)\n",
      "Training score with proper scaling: 0.7172174807903747\n",
      "Testing score: 0.6593903996053497\n"
     ]
    }
   ],
   "source": [
    "X = automobile_data[[\"displacement\", \"horsepower\", \"weight\"]]\n",
    "Y = automobile_data[[\"mpg\"]]\n",
    "\n",
    "x_train, x_test, y_train, y_test = train_test_split(X, Y, random_state=42, test_size=0.2)\n",
    "\n",
    "print(\"x_train shape : \", x_train.shape)\n",
    "print(\"x_test shape : \", x_test.shape)\n",
    "print(\"y_train shape : \", y_train.shape)\n",
    "print(\"y_test shape : \", y_test.shape)\n",
    "\n",
    "# Scale the data properly - fit scaler ONLY on training data\n",
    "scaler = StandardScaler()\n",
    "x_train_scaled = scaler.fit_transform(x_train)\n",
    "\n",
    "# Fit model\n",
    "linear_model = LinearRegression().fit(x_train_scaled, y_train)\n",
    "\n",
    "# Calculate score on scaled training data\n",
    "train_score = linear_model.score(x_train_scaled, y_train)\n",
    "print(\"Training score with proper scaling:\", train_score)\n",
    "\n",
    "# Transform test data using the SAME scaler (don't fit again!)\n",
    "x_test_scaled = scaler.transform(x_test)\n",
    "\n",
    "# Make predictions and calculate test score\n",
    "y_pred = linear_model.predict(x_test_scaled)\n",
    "test_score = r2_score(y_test, y_pred)\n",
    "\n",
    "print(\"Testing score:\", test_score)"
   ]
  },
  {
   "cell_type": "code",
   "execution_count": 48,
   "id": "7af16839",
   "metadata": {},
   "outputs": [
    {
     "name": "stdout",
     "output_type": "stream",
     "text": [
      "x_train shape :  (313, 5)\n",
      "x_test shape :  (79, 5)\n",
      "y_train shape :  (313, 1)\n",
      "y_test shape :  (79, 1)\n",
      "Training score with proper scaling: 0.718793876974411\n",
      "Testing score: 0.6522546762170984\n"
     ]
    }
   ],
   "source": [
    "X = automobile_data[[\"displacement\", \"horsepower\", \"weight\", \"acceleration\", \"cylinders\"]]\n",
    "Y = automobile_data[[\"mpg\"]]\n",
    "\n",
    "x_train, x_test, y_train, y_test = train_test_split(X, Y, random_state=42, test_size=0.2)\n",
    "\n",
    "print(\"x_train shape : \", x_train.shape)\n",
    "print(\"x_test shape : \", x_test.shape)\n",
    "print(\"y_train shape : \", y_train.shape)\n",
    "print(\"y_test shape : \", y_test.shape)\n",
    "\n",
    "# Scale the data properly - fit scaler ONLY on training data\n",
    "scaler = StandardScaler()\n",
    "x_train_scaled = scaler.fit_transform(x_train)\n",
    "\n",
    "# Fit model\n",
    "linear_model = LinearRegression().fit(x_train_scaled, y_train)\n",
    "\n",
    "# Calculate score on scaled training data\n",
    "train_score = linear_model.score(x_train_scaled, y_train)\n",
    "print(\"Training score with proper scaling:\", train_score)\n",
    "\n",
    "# Transform test data using the SAME scaler (don't fit again!)\n",
    "x_test_scaled = scaler.transform(x_test)\n",
    "\n",
    "# Make predictions and calculate test score\n",
    "y_pred = linear_model.predict(x_test_scaled)\n",
    "test_score = r2_score(y_test, y_pred)\n",
    "\n",
    "print(\"Testing score:\", test_score)"
   ]
  },
  {
   "cell_type": "code",
   "execution_count": 49,
   "id": "16f9a0ab",
   "metadata": {},
   "outputs": [
    {
     "name": "stdout",
     "output_type": "stream",
     "text": [
      "weight         -0.569579\n",
      "horsepower     -0.161611\n",
      "cylinders      -0.108029\n",
      "displacement   -0.005651\n",
      "acceleration    0.038628\n",
      "dtype: float64\n"
     ]
    }
   ],
   "source": [
    "coef = pd.Series(linear_model.coef_.flatten(), index=x_train.columns).sort_values()\n",
    "print(coef)"
   ]
  }
 ],
 "metadata": {
  "kernelspec": {
   "display_name": "ml-project",
   "language": "python",
   "name": "python3"
  },
  "language_info": {
   "codemirror_mode": {
    "name": "ipython",
    "version": 3
   },
   "file_extension": ".py",
   "mimetype": "text/x-python",
   "name": "python",
   "nbconvert_exporter": "python",
   "pygments_lexer": "ipython3",
   "version": "3.13.7"
  }
 },
 "nbformat": 4,
 "nbformat_minor": 5
}
