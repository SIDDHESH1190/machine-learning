{
 "cells": [
  {
   "cell_type": "markdown",
   "id": "532866f3",
   "metadata": {},
   "source": [
    "# Auto-mpg regression"
   ]
  },
  {
   "cell_type": "code",
   "execution_count": 50,
   "id": "30c3f207",
   "metadata": {},
   "outputs": [],
   "source": [
    "import pandas as pd\n",
    "import numpy as np\n",
    "import matplotlib.pyplot as plt\n",
    "from sklearn import preprocessing"
   ]
  },
  {
   "cell_type": "code",
   "execution_count": 51,
   "id": "ba7eceec",
   "metadata": {},
   "outputs": [],
   "source": [
    "automobile_data = pd.read_csv(\"../../../data/auto-mpg-processed.csv\")\n",
    "# print(\"Before scaling : \", automobile_data.head())\n",
    "\n",
    "# for column in automobile_data.columns:\n",
    "#     automobile_data[[column]] = preprocessing.scale(automobile_data[[column]].astype(\"float64\"))\n",
    "\n",
    "# print(\"After scaling : \", automobile_data.head())\n"
   ]
  },
  {
   "cell_type": "code",
   "execution_count": 52,
   "id": "5237c21c",
   "metadata": {},
   "outputs": [
    {
     "name": "stdout",
     "output_type": "stream",
     "text": [
      "x_train shape :  (313, 1)\n",
      "x_test shape :  (79, 1)\n",
      "y_train shape :  (313, 1)\n",
      "y_test shape :  (79, 1)\n",
      "Training score with proper scaling: 0.6285958357101507\n",
      "Testing score: 0.5085360323881873\n"
     ]
    }
   ],
   "source": [
    "from sklearn.model_selection import train_test_split\n",
    "from sklearn.linear_model import LinearRegression\n",
    "from sklearn.preprocessing import StandardScaler\n",
    "from sklearn.metrics import r2_score\n",
    "\n",
    "X = automobile_data[[\"horsepower\"]]\n",
    "Y = automobile_data[[\"mpg\"]]\n",
    "\n",
    "x_train, x_test, y_train, y_test = train_test_split(X, Y, random_state=42, test_size=0.2)\n",
    "\n",
    "print(\"x_train shape : \", x_train.shape)\n",
    "print(\"x_test shape : \", x_test.shape)\n",
    "print(\"y_train shape : \", y_train.shape)\n",
    "print(\"y_test shape : \", y_test.shape)\n",
    "\n",
    "# Scale the data properly - fit scaler ONLY on training data\n",
    "scaler = StandardScaler()\n",
    "x_train_scaled = scaler.fit_transform(x_train)\n",
    "\n",
    "# Fit model\n",
    "linear_model = LinearRegression().fit(x_train_scaled, y_train)\n",
    "\n",
    "# Calculate score on scaled training data\n",
    "train_score = linear_model.score(x_train_scaled, y_train)\n",
    "print(\"Training score with proper scaling:\", train_score)\n",
    "\n",
    "# Transform test data using the SAME scaler (don't fit again!)\n",
    "x_test_scaled = scaler.transform(x_test)\n",
    "\n",
    "# Make predictions and calculate test score\n",
    "y_pred = linear_model.predict(x_test_scaled)\n",
    "test_score = r2_score(y_test, y_pred)\n",
    "\n",
    "print(\"Testing score:\", test_score)"
   ]
  },
  {
   "cell_type": "code",
   "execution_count": 53,
   "id": "7def73cc",
   "metadata": {},
   "outputs": [
    {
     "name": "stdout",
     "output_type": "stream",
     "text": [
      "x_train shape :  (313, 1)\n",
      "x_test shape :  (79, 1)\n",
      "y_train shape :  (313, 1)\n",
      "y_test shape :  (79, 1)\n",
      "Training score with proper scaling: 0.3339101989206892\n",
      "Testing score: 0.3214022305780684\n"
     ]
    }
   ],
   "source": [
    "X = automobile_data[[\"age\"]]\n",
    "Y = automobile_data[[\"mpg\"]]\n",
    "\n",
    "x_train, x_test, y_train, y_test = train_test_split(X, Y, random_state=42, test_size=0.2)\n",
    "\n",
    "print(\"x_train shape : \", x_train.shape)\n",
    "print(\"x_test shape : \", x_test.shape)\n",
    "print(\"y_train shape : \", y_train.shape)\n",
    "print(\"y_test shape : \", y_test.shape)\n",
    "\n",
    "# Scale the data properly - fit scaler ONLY on training data\n",
    "scaler = StandardScaler()\n",
    "x_train_scaled = scaler.fit_transform(x_train)\n",
    "\n",
    "# Fit model\n",
    "linear_model = LinearRegression().fit(x_train_scaled, y_train)\n",
    "\n",
    "# Calculate score on scaled training data\n",
    "train_score = linear_model.score(x_train_scaled, y_train)\n",
    "print(\"Training score with proper scaling:\", train_score)\n",
    "\n",
    "# Transform test data using the SAME scaler (don't fit again!)\n",
    "x_test_scaled = scaler.transform(x_test)\n",
    "\n",
    "# Make predictions and calculate test score\n",
    "y_pred = linear_model.predict(x_test_scaled)\n",
    "test_score = r2_score(y_test, y_pred)\n",
    "\n",
    "print(\"Testing score:\", test_score)"
   ]
  },
  {
   "cell_type": "code",
   "execution_count": 54,
   "id": "57b514d6",
   "metadata": {},
   "outputs": [
    {
     "name": "stdout",
     "output_type": "stream",
     "text": [
      "x_train shape :  (313, 3)\n",
      "x_test shape :  (79, 3)\n",
      "y_train shape :  (313, 1)\n",
      "y_test shape :  (79, 1)\n",
      "Training score with proper scaling: 0.7172174807903748\n",
      "Testing score: 0.6593903996053498\n"
     ]
    }
   ],
   "source": [
    "X = automobile_data[[\"displacement\", \"horsepower\", \"weight\"]]\n",
    "Y = automobile_data[[\"mpg\"]]\n",
    "\n",
    "x_train, x_test, y_train, y_test = train_test_split(X, Y, random_state=42, test_size=0.2)\n",
    "\n",
    "print(\"x_train shape : \", x_train.shape)\n",
    "print(\"x_test shape : \", x_test.shape)\n",
    "print(\"y_train shape : \", y_train.shape)\n",
    "print(\"y_test shape : \", y_test.shape)\n",
    "\n",
    "# Scale the data properly - fit scaler ONLY on training data\n",
    "scaler = StandardScaler()\n",
    "x_train_scaled = scaler.fit_transform(x_train)\n",
    "\n",
    "# Fit model\n",
    "linear_model = LinearRegression().fit(x_train_scaled, y_train)\n",
    "\n",
    "# Calculate score on scaled training data\n",
    "train_score = linear_model.score(x_train_scaled, y_train)\n",
    "print(\"Training score with proper scaling:\", train_score)\n",
    "\n",
    "# Transform test data using the SAME scaler (don't fit again!)\n",
    "x_test_scaled = scaler.transform(x_test)\n",
    "\n",
    "# Make predictions and calculate test score\n",
    "y_pred = linear_model.predict(x_test_scaled)\n",
    "test_score = r2_score(y_test, y_pred)\n",
    "\n",
    "print(\"Testing score:\", test_score)"
   ]
  },
  {
   "cell_type": "code",
   "execution_count": 55,
   "id": "7af16839",
   "metadata": {},
   "outputs": [
    {
     "name": "stdout",
     "output_type": "stream",
     "text": [
      "x_train shape :  (313, 5)\n",
      "x_test shape :  (79, 5)\n",
      "y_train shape :  (313, 1)\n",
      "y_test shape :  (79, 1)\n",
      "Training score with proper scaling: 0.7187938769744111\n",
      "Testing score: 0.6522546762170984\n"
     ]
    }
   ],
   "source": [
    "X = automobile_data[[\"displacement\", \"horsepower\", \"weight\", \"acceleration\", \"cylinders\"]]\n",
    "Y = automobile_data[[\"mpg\"]]\n",
    "\n",
    "x_train, x_test, y_train, y_test = train_test_split(X, Y, random_state=42, test_size=0.2)\n",
    "\n",
    "print(\"x_train shape : \", x_train.shape)\n",
    "print(\"x_test shape : \", x_test.shape)\n",
    "print(\"y_train shape : \", y_train.shape)\n",
    "print(\"y_test shape : \", y_test.shape)\n",
    "\n",
    "# Scale the data properly - fit scaler ONLY on training data\n",
    "scaler = StandardScaler()\n",
    "x_train_scaled = scaler.fit_transform(x_train)\n",
    "\n",
    "# Fit model\n",
    "linear_model = LinearRegression().fit(x_train_scaled, y_train)\n",
    "\n",
    "# Calculate score on scaled training data\n",
    "train_score = linear_model.score(x_train_scaled, y_train)\n",
    "print(\"Training score with proper scaling:\", train_score)\n",
    "\n",
    "# Transform test data using the SAME scaler (don't fit again!)\n",
    "x_test_scaled = scaler.transform(x_test)\n",
    "\n",
    "# Make predictions and calculate test score\n",
    "y_pred = linear_model.predict(x_test_scaled)\n",
    "test_score = r2_score(y_test, y_pred)\n",
    "\n",
    "print(\"Testing score:\", test_score)"
   ]
  },
  {
   "cell_type": "code",
   "execution_count": null,
   "id": "16f9a0ab",
   "metadata": {},
   "outputs": [
    {
     "name": "stdout",
     "output_type": "stream",
     "text": [
      "weight         -4.439894\n",
      "horsepower     -1.259765\n",
      "cylinders      -0.842094\n",
      "displacement   -0.044051\n",
      "acceleration    0.301109\n",
      "dtype: float64\n"
     ]
    },
    {
     "ename": "",
     "evalue": "",
     "output_type": "error",
     "traceback": [
      "\u001b[1;31mThe Kernel crashed while executing code in the current cell or a previous cell. \n",
      "\u001b[1;31mPlease review the code in the cell(s) to identify a possible cause of the failure. \n",
      "\u001b[1;31mClick <a href='https://aka.ms/vscodeJupyterKernelCrash'>here</a> for more info. \n",
      "\u001b[1;31mView Jupyter <a href='command:jupyter.viewOutput'>log</a> for further details."
     ]
    }
   ],
   "source": [
    "coef = pd.Series(linear_model.coef_.flatten(), index=x_train.columns).sort_values()\n",
    "print(coef)"
   ]
  }
 ],
 "metadata": {
  "kernelspec": {
   "display_name": "ml-project",
   "language": "python",
   "name": "python3"
  },
  "language_info": {
   "codemirror_mode": {
    "name": "ipython",
    "version": 3
   },
   "file_extension": ".py",
   "mimetype": "text/x-python",
   "name": "python",
   "nbconvert_exporter": "python",
   "pygments_lexer": "ipython3",
   "version": "3.13.7"
  }
 },
 "nbformat": 4,
 "nbformat_minor": 5
}
