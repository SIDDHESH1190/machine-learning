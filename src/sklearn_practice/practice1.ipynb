{
 "cells": [
  {
   "cell_type": "markdown",
   "id": "2352b164",
   "metadata": {},
   "source": [
    "# SK Learns"
   ]
  },
  {
   "cell_type": "code",
   "execution_count": null,
   "id": "0c154846",
   "metadata": {},
   "outputs": [],
   "source": [
    "import sklearn\n",
    "from sklearn.preprocessing import StandardScaler\n",
    "\n",
    "print(\"sklearn version:\", sklearn.__version__)\n",
    "\n",
    "scaler = StandardScaler()\n",
    "data = [[0, 0], [0, 0], [1, 1], [1, 1]]\n",
    "scaled_data = scaler.fit_transform(data)\n",
    "print(scaled_data)"
   ]
  },
  {
   "cell_type": "markdown",
   "id": "cd47ec9d",
   "metadata": {},
   "source": [
    "# breast cancer Dataset"
   ]
  },
  {
   "cell_type": "code",
   "execution_count": null,
   "id": "9c595e53",
   "metadata": {},
   "outputs": [],
   "source": [
    "from sklearn.datasets import load_breast_cancer\n",
    "\n",
    "breast_cancer_dataset = load_breast_cancer()\n",
    "# print(breast_cancer_dataset.keys())\n",
    "# print(breast_cancer_dataset.DESCR)\n"
   ]
  },
  {
   "cell_type": "code",
   "execution_count": null,
   "id": "b919161c",
   "metadata": {},
   "outputs": [],
   "source": [
    "import pandas as pd\n",
    "\n",
    "features_df = pd.DataFrame(breast_cancer_dataset.data, columns=breast_cancer_dataset.feature_names)\n",
    "# print(features_df.sample(5))\n",
    "target_df = pd.DataFrame(breast_cancer_dataset.target, columns=['cancer'])\n",
    "# print(target_df.sample(5))\n",
    "\n",
    "final_df = pd.concat([features_df,target_df], axis=1)\n",
    "# print(final_df.head(5))"
   ]
  },
  {
   "cell_type": "markdown",
   "id": "8c1a81d7",
   "metadata": {},
   "source": [
    "# News Group dataset"
   ]
  },
  {
   "cell_type": "code",
   "execution_count": null,
   "id": "6d3fc9a3",
   "metadata": {},
   "outputs": [],
   "source": [
    "from sklearn.datasets import fetch_20newsgroups\n",
    "\n",
    "newsgroup_dataset = fetch_20newsgroups(subset='train')\n",
    "# print(newsgroup_dataset.keys())\n",
    "# print(newsgroup_dataset.DESCR)\n",
    "# print(newsgroup_dataset.data)"
   ]
  },
  {
   "cell_type": "markdown",
   "id": "ed5add70",
   "metadata": {},
   "source": [
    "# Housing dataset"
   ]
  },
  {
   "cell_type": "code",
   "execution_count": null,
   "id": "31ff0239",
   "metadata": {},
   "outputs": [],
   "source": [
    "import pandas as pd\n",
    "import matplotlib.pyplot as plt\n",
    "import seaborn as sns\n",
    "\n",
    "housing_data = pd.read_csv(\"../resources/housing.csv\")\n",
    "print(housing_data.head())\n",
    "\n"
   ]
  },
  {
   "cell_type": "code",
   "execution_count": null,
   "id": "52e42a4a",
   "metadata": {},
   "outputs": [],
   "source": [
    "# print(housing_data.columns)\n",
    "# housing_data.describe()\n",
    "# # housing_data.info()\n",
    "housing_data.dropna(inplace=True)\n",
    "print(housing_data.shape)\n",
    "print(housing_data.isnull().sum())\n"
   ]
  },
  {
   "cell_type": "code",
   "execution_count": null,
   "id": "bd4061e2",
   "metadata": {},
   "outputs": [],
   "source": [
    "fig , axes = plt.subplots(figsize = (12, 10))\n",
    "plt.scatter(x=housing_data[\"total_rooms\"], y=housing_data[\"median_house_value\"])\n",
    "plt.xlabel(\"Total Rooms\")\n",
    "plt.ylabel(\"Median House Value\")\n",
    "plt.show() "
   ]
  },
  {
   "cell_type": "code",
   "execution_count": null,
   "id": "565e5c69",
   "metadata": {},
   "outputs": [],
   "source": [
    "fig , axes = plt.subplots(figsize = (12, 10))\n",
    "plt.scatter(x=housing_data[\"housing_median_age\"], y=housing_data[\"median_house_value\"])\n",
    "plt.xlabel(\"Age\")\n",
    "plt.ylabel(\"Median House Value\")\n",
    "plt.show() "
   ]
  },
  {
   "cell_type": "code",
   "execution_count": null,
   "id": "42e8a70d",
   "metadata": {},
   "outputs": [],
   "source": [
    "housing_corr = housing_data.select_dtypes(include=[\"number\"]).corr()\n",
    "\n",
    "fig, axes = plt.subplots(figsize = (12, 10))\n",
    "sns.heatmap(housing_corr, annot=True)"
   ]
  }
 ],
 "metadata": {
  "kernelspec": {
   "display_name": "ml_practice",
   "language": "python",
   "name": "python3"
  },
  "language_info": {
   "codemirror_mode": {
    "name": "ipython",
    "version": 3
   },
   "file_extension": ".py",
   "mimetype": "text/x-python",
   "name": "python",
   "nbconvert_exporter": "python",
   "pygments_lexer": "ipython3",
   "version": "3.13.7"
  }
 },
 "nbformat": 4,
 "nbformat_minor": 5
}
